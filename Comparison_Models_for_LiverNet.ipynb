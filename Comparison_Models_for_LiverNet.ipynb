{
  "nbformat": 4,
  "nbformat_minor": 0,
  "metadata": {
    "colab": {
      "name": "Comparison Models for LiverNet.ipynb",
      "provenance": [],
      "collapsed_sections": []
    },
    "kernelspec": {
      "name": "python3",
      "display_name": "Python 3"
    }
  },
  "cells": [
    {
      "cell_type": "code",
      "metadata": {
        "id": "3-AsWYAyNJ3A",
        "colab_type": "code",
        "colab": {}
      },
      "source": [
        ""
      ],
      "execution_count": null,
      "outputs": []
    },
    {
      "cell_type": "markdown",
      "metadata": {
        "id": "REVdtGyTObTS",
        "colab_type": "text"
      },
      "source": [
        "#Comparison Models for LiverNet"
      ]
    },
    {
      "cell_type": "code",
      "metadata": {
        "id": "9jNNTm5XUS2F",
        "colab_type": "code",
        "colab": {
          "base_uri": "https://localhost:8080/",
          "height": 35
        },
        "outputId": "d62d4c51-f9ef-430d-e623-060c60f22d9c"
      },
      "source": [
        "import cv2\n",
        "import os\n",
        "import matplotlib.pyplot as plt\n",
        "import tensorflow as tf\n",
        "import numpy as np\n",
        "from tensorflow.keras.preprocessing.image import ImageDataGenerator\n",
        "from keras import backend as K"
      ],
      "execution_count": 1,
      "outputs": [
        {
          "output_type": "stream",
          "text": [
            "Using TensorFlow backend.\n"
          ],
          "name": "stderr"
        }
      ]
    },
    {
      "cell_type": "markdown",
      "metadata": {
        "id": "arhnXNhmcwjq",
        "colab_type": "text"
      },
      "source": [
        "##Defining required global variables"
      ]
    },
    {
      "cell_type": "code",
      "metadata": {
        "id": "B4MwkzV0ctoV",
        "colab_type": "code",
        "colab": {}
      },
      "source": [
        "train_path = '/random_crop_kmc_data/Train/'\n",
        "val_path = '/random_crop_kmc_data/Validation/'\n",
        "test_path = '/random_crop_kmc_data/Test/'\n",
        "batch_size = 32\n",
        "img_height = 224\n",
        "img_width = 224\n",
        "input_shape = (img_height , img_width , 3)\n",
        "\n",
        "#chose mdoel name out of 'resnet50','densenet121','mobilenetv2','inceptionresnetv2'\n",
        "model_name = 'inceptionresnetv2'"
      ],
      "execution_count": 13,
      "outputs": []
    },
    {
      "cell_type": "markdown",
      "metadata": {
        "id": "tg0bo2eJd3yX",
        "colab_type": "text"
      },
      "source": [
        "##Reading Data and Augmentation"
      ]
    },
    {
      "cell_type": "code",
      "metadata": {
        "id": "ZZi2K3wueEyG",
        "colab_type": "code",
        "colab": {}
      },
      "source": [
        "train_datagen = ImageDataGenerator(\n",
        "    rescale=1. / 255,\n",
        "    featurewise_center=True,\n",
        "    horizontal_flip = True,\n",
        "    vertical_flip = True,\n",
        "    featurewise_std_normalization=True)\n",
        "\n",
        "valid_datagen = ImageDataGenerator(\n",
        "    rescale=1. / 255,\n",
        "    featurewise_center=True,\n",
        "    featurewise_std_normalization=True)\n",
        "\n",
        "train_generator = train_datagen.flow_from_directory(\n",
        "    train_path,\n",
        "    target_size=(img_height, img_width),\n",
        "    batch_size=batch_size,\n",
        "    shuffle = True,\n",
        "    class_mode='categorical')\n",
        "\n",
        "validation_generator = valid_datagen.flow_from_directory(\n",
        "    val_path,\n",
        "    target_size=(img_height, img_width),\n",
        "    batch_size=batch_size,\n",
        "    shuffle = True,\n",
        "    class_mode='categorical')"
      ],
      "execution_count": null,
      "outputs": []
    },
    {
      "cell_type": "markdown",
      "metadata": {
        "id": "f5EeqfUxiDb3",
        "colab_type": "text"
      },
      "source": [
        "##Defining Comparison Models"
      ]
    },
    {
      "cell_type": "code",
      "metadata": {
        "id": "SlalGmWpiJUQ",
        "colab_type": "code",
        "colab": {}
      },
      "source": [
        "def resnet50():\n",
        "\n",
        "  base_model = tf.keras.applications.ResNet50(weights = None , include_top = False , input_shape=(224,224,3))\n",
        "  x = base_model.output\n",
        "  x = tf.keras.layers.GlobalAveragePooling2D()(x)\n",
        "  pred = tf.keras.layers.Dense(4 , activation='softmax')(x)\n",
        "  model = tf.keras.models.Model(inputs = base_model.input , outputs = pred)\n",
        "  return model \n",
        "\n",
        "def densenet121():\n",
        "\n",
        "  base_model = tf.keras.applications.DenseNet121(weights = None , include_top = False , input_shape=(224,224,3))\n",
        "  x = base_model.output\n",
        "  x = tf.keras.layers.GlobalAveragePooling2D()(x)\n",
        "  pred = tf.keras.layers.Dense(4 , activation='softmax')(x)\n",
        "  model = tf.keras.models.Model(inputs = base_model.input , outputs = pred)\n",
        "  return model \n",
        "\n",
        "def mobilenetv2():\n",
        "\n",
        "  base_model = tf.keras.applications.MobileNetV2(weights = None , include_top = False , input_shape=(224,224,3))\n",
        "  x = base_model.output\n",
        "  x = tf.keras.layers.GlobalAveragePooling2D()(x)\n",
        "  pred = tf.keras.layers.Dense(4 , activation='softmax')(x)\n",
        "  model = tf.keras.models.Model(inputs = base_model.input , outputs = pred)\n",
        "  return model \n",
        "\n",
        "def inceptionresnetv2():\n",
        "\n",
        "  base_model = tf.keras.applications.InceptionResNetV2(weights = None , include_top = False , input_shape=(224,224,3))\n",
        "  x = base_model.output\n",
        "  x = tf.keras.layers.GlobalAveragePooling2D()(x)\n",
        "  pred = tf.keras.layers.Dense(4 , activation='softmax')(x)\n",
        "  model = tf.keras.models.Model(inputs = base_model.input , outputs = pred)\n",
        "  return model \n",
        "\n",
        "\n",
        "model = None\n",
        "\n",
        "if(model_name == 'resnet50'):\n",
        "  model =  resnet50()\n",
        "elif(model_name == 'densenet121'):\n",
        "  model = densenet121()\n",
        "elif(model_name == 'mobilenetv2'):\n",
        "  model = mobilenetv2()\n",
        "elif(model_name == 'inceptionresnetv2'):\n",
        "  model = inceptionresnetv2()\n",
        "\n",
        "\n",
        "adam = tf.keras.optimizers.Adam(lr = 0.00001)\n",
        "model.compile(optimizer = adam , loss = 'categorical_crossentropy' , metrics = [\"acc\"])\n",
        "model.summary()"
      ],
      "execution_count": null,
      "outputs": []
    },
    {
      "cell_type": "markdown",
      "metadata": {
        "id": "cjVUa-6eqILv",
        "colab_type": "text"
      },
      "source": [
        "##Training"
      ]
    },
    {
      "cell_type": "code",
      "metadata": {
        "id": "zlS3iN4DpJpe",
        "colab_type": "code",
        "colab": {}
      },
      "source": [
        "reduce_lr = tf.keras.callbacks.ReduceLROnPlateau(monitor = 'val_loss' ,\n",
        "                                                  factor = 0.1 , patience = 3 , verbose=1 , cooldown = 1)\n",
        "\n",
        "history = model.fit_generator(train_generator , validation_data = validation_generator , \n",
        "                                  steps_per_epoch= len(train_generator) ,\n",
        "                                  validation_steps = len(validation_generator)\n",
        "                                  ,epochs = 40 , callbacks = [reduce_lr] )"
      ],
      "execution_count": null,
      "outputs": []
    },
    {
      "cell_type": "markdown",
      "metadata": {
        "id": "1ifRCLkqqb0V",
        "colab_type": "text"
      },
      "source": [
        "##Plots for Accuracy anf loss "
      ]
    },
    {
      "cell_type": "code",
      "metadata": {
        "id": "EyK4TRTnqftN",
        "colab_type": "code",
        "colab": {}
      },
      "source": [
        "plt.plot(history.history['loss'] , label = 'train_loss')\n",
        "plt.plot(history.history['val_loss'] , label = 'val_loss')\n",
        "plt.legend\n",
        "plt.show()\n",
        "\n",
        "plt.plot(history.history['acc'] , label = 'train_acc')\n",
        "plt.plot(history.history['val_acc'] , label = 'val_acc')\n",
        "plt.legend\n",
        "plt.show()"
      ],
      "execution_count": null,
      "outputs": []
    },
    {
      "cell_type": "markdown",
      "metadata": {
        "id": "bl9dgwy8qsIm",
        "colab_type": "text"
      },
      "source": [
        "##Testing"
      ]
    },
    {
      "cell_type": "code",
      "metadata": {
        "id": "HlkN8S3Nqvc1",
        "colab_type": "code",
        "colab": {}
      },
      "source": [
        "test_datagen = ImageDataGenerator(rescale=1. / 255)\n",
        "test_generator = test_datagen.flow_from_directory(\n",
        "    test_path,\n",
        "    target_size=(img_height, img_width),\n",
        "    batch_size=1,\n",
        "    shuffle = False,\n",
        "    class_mode='categorical')\n",
        "print('original')\n",
        "print(test_generator.labels)\n",
        "print('\\n')\n",
        "print('predicted')\n",
        "test_step = test_generator.n//test_generator.batch_size\n",
        "test_generator.reset()\n",
        "pred = model_deep.predict_generator(test_generator , steps = test_step , verbose = 1)\n",
        "pred_class_indices = np.argmax(pred,axis=1)\n",
        "print(pred_class_indices)\n",
        "print('\\n')"
      ],
      "execution_count": null,
      "outputs": []
    },
    {
      "cell_type": "markdown",
      "metadata": {
        "id": "214USWVlsAPu",
        "colab_type": "text"
      },
      "source": [
        "##Result Analysis"
      ]
    },
    {
      "cell_type": "code",
      "metadata": {
        "id": "PLGnFZK0sDvm",
        "colab_type": "code",
        "colab": {}
      },
      "source": [
        "from sklearn.metrics import accuracy_score,roc_curve, confusion_matrix, roc_auc_score, auc, f1_score,jaccard_score,classification_report\n",
        "from sklearn.metrics import precision_score,recall_score,jaccard_score\n",
        "\n",
        "\n",
        "## Classwise performance analysis\n",
        "\n",
        "classes = [0,1,2,3]\n",
        "\n",
        "\n",
        "for cl in classes:\n",
        "\n",
        "    print(\"class: \",cl)\n",
        "\n",
        "    a1 = np.uint8(test_generator.labels == cl)\n",
        "    a2 = np.uint8(pred_class_indices == cl)\n",
        "\n",
        "    print('Accuracy {}'.format(accuracy_score(y_true=a1, y_pred=a2)))\n",
        "    print('F1 {}'.format(f1_score(y_true=a1, y_pred=a2)))\n",
        "    print('precision {}'.format(precision_score(y_true=a1, y_pred=a2)))\n",
        "    print('recall {}'.format(recall_score(y_true=a1, y_pred=a2)))\n",
        "\n",
        "    print('jaccard {}'.format(jaccard_score(y_true=a1, y_pred=a2)))\n",
        "    print(\"_______________________________\")\n",
        "\n",
        "\n",
        "## Overall performance analysis\n",
        "\n",
        "print('Accuracy {}'.format(accuracy_score(y_true=test_generator.labels, y_pred=pred_class_indices)))\n",
        "print('F1 {}'.format(f1_score(y_true=test_generator.labels, y_pred=pred_class_indices,average = \"macro\")))\n",
        "print('precision {}'.format(precision_score(y_true=test_generator.labels, y_pred=pred_class_indices,average = \"macro\")))\n",
        "print('recall {}'.format(recall_score(y_true=test_generator.labels, y_pred=pred_class_indices,average = \"macro\")))\n",
        "\n",
        "print('jaccard {}'.format(jaccard_score(y_true=test_generator.labels, y_pred=pred_class_indices,average = \"macro\")))\n",
        "print('confusion_matrix\\n {}'.format(confusion_matrix(y_true=test_generator.labels, y_pred=pred_class_indices)))\n",
        "print('classification_report\\n {}'.format(classification_report(y_true=test_generator.labels, y_pred=pred_class_indices)))\n",
        "print('\\n\\n')"
      ],
      "execution_count": null,
      "outputs": []
    }
  ]
}